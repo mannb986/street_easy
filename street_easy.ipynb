{
 "cells": [
  {
   "cell_type": "markdown",
   "metadata": {},
   "source": [
    "# StreetEasy Dataset"
   ]
  },
  {
   "cell_type": "markdown",
   "metadata": {},
   "source": [
    "StreetEasy is New York City’s leading real estate marketplace — from studios to high-rises, Brooklyn Heights to Harlem.\n",
    "\n",
    "Goal of this is to find the correlations between several features and the rent, build/evaluate a MLR model, and use the model to present interesting findings:\n",
    "\n",
    "1. “Does having a washer/dryer in unit increase the price of rent?”\n",
    "2. “How costly is living by a subway station in Brooklyn/Queens?”\n",
    "3. And most importantly, “Is a tenant over or underpaying?”\n",
    "\n",
    "The dataset contains a sample of 5,000 rentals listings in Manhattan, Brooklyn, and Queens, active on StreetEasy in June 2016."
   ]
  },
  {
   "cell_type": "code",
   "execution_count": 4,
   "metadata": {},
   "outputs": [],
   "source": [
    "import pandas as pd\n",
    "\n",
    "df = pd.read_csv('manhattan.csv')"
   ]
  },
  {
   "cell_type": "markdown",
   "metadata": {},
   "source": [
    "### Taking a look at the first few rows. "
   ]
  },
  {
   "cell_type": "code",
   "execution_count": 5,
   "metadata": {
    "tags": []
   },
   "outputs": [
    {
     "output_type": "stream",
     "name": "stdout",
     "text": "rental_id   rent  bedrooms  bathrooms  size_sqft  min_to_subway  floor  \\\n0       1545   2550       0.0          1        480              9    2.0   \n1       2472  11500       2.0          2       2000              4    1.0   \n2       2919   4500       1.0          1        916              2   51.0   \n3       2790   4795       1.0          1        975              3    8.0   \n4       3946  17500       2.0          2       4800              3    4.0   \n\n   building_age_yrs  no_fee  has_roofdeck  has_washer_dryer  has_doorman  \\\n0                17       1             1                 0            0   \n1                96       0             0                 0            0   \n2                29       0             1                 0            1   \n3                31       0             0                 0            1   \n4               136       0             0                 0            1   \n\n   has_elevator  has_dishwasher  has_patio  has_gym       neighborhood  \\\n0             1               1          0        1    Upper East Side   \n1             0               0          0        0  Greenwich Village   \n2             1               1          0        0            Midtown   \n3             1               1          0        1  Greenwich Village   \n4             1               1          0        1               Soho   \n\n     borough  \n0  Manhattan  \n1  Manhattan  \n2  Manhattan  \n3  Manhattan  \n4  Manhattan  \n"
    }
   ],
   "source": [
    "print(df.head())"
   ]
  },
  {
   "cell_type": "markdown",
   "metadata": {},
   "source": [
    "### Setting up Training & Test Datasets"
   ]
  },
  {
   "cell_type": "code",
   "execution_count": 6,
   "metadata": {},
   "outputs": [],
   "source": [
    "from sklearn.model_selection import train_test_split \n",
    "\n",
    "x = df[['bedrooms', 'bathrooms', 'size_sqft', 'min_to_subway', 'floor', 'building_age_yrs', 'no_fee', 'has_roofdeck', 'has_washer_dryer', 'has_doorman', 'has_elevator', 'has_dishwasher', 'has_patio', 'has_gym']]\n",
    " \n",
    "y = df[['rent']]\n",
    "\n",
    "x_train, x_test, y_train, y_test = train_test_split(x, y, train_size=0.8, test_size=0.2, random_state=6)"
   ]
  },
  {
   "cell_type": "markdown",
   "metadata": {},
   "source": [
    "Taking a look at the shape....."
   ]
  },
  {
   "cell_type": "code",
   "execution_count": 7,
   "metadata": {
    "tags": []
   },
   "outputs": [
    {
     "output_type": "stream",
     "name": "stdout",
     "text": "(2831, 14)\n(708, 14)\n(2831, 1)\n(708, 1)\n"
    }
   ],
   "source": [
    "print(x_train.shape)\n",
    "print(x_test.shape)\n",
    " \n",
    "print(y_train.shape)\n",
    "print(y_test.shape)"
   ]
  },
  {
   "cell_type": "code",
   "execution_count": null,
   "metadata": {},
   "outputs": [],
   "source": []
  }
 ],
 "metadata": {
  "language_info": {
   "codemirror_mode": {
    "name": "ipython",
    "version": 3
   },
   "file_extension": ".py",
   "mimetype": "text/x-python",
   "name": "python",
   "nbconvert_exporter": "python",
   "pygments_lexer": "ipython3",
   "version": "3.7.10-final"
  },
  "orig_nbformat": 2,
  "kernelspec": {
   "name": "python3",
   "display_name": "Python 3"
  }
 },
 "nbformat": 4,
 "nbformat_minor": 2
}